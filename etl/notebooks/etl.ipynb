{
 "cells": [
  {
   "cell_type": "code",
   "execution_count": 1,
   "metadata": {},
   "outputs": [],
   "source": [
    "import pandas as pd\n",
    "import numpy as np"
   ]
  },
  {
   "cell_type": "code",
   "execution_count": 15,
   "metadata": {},
   "outputs": [],
   "source": [
    "from ddf_utils.str import format_float_digits"
   ]
  },
  {
   "cell_type": "code",
   "execution_count": 2,
   "metadata": {},
   "outputs": [
    {
     "name": "stdout",
     "output_type": "stream",
     "text": [
      "rated_0_14.csv\r\n",
      "rated_15_29.csv\r\n",
      "rated_30_44.csv\r\n",
      "rated_45_59.csv\r\n",
      "rated_60+.csv\r\n",
      "ratedall.csv\r\n"
     ]
    }
   ],
   "source": [
    "!ls -1 ../source/who"
   ]
  },
  {
   "cell_type": "code",
   "execution_count": 3,
   "metadata": {},
   "outputs": [
    {
     "name": "stdout",
     "output_type": "stream",
     "text": [
      "deaths_rate_014.csv\r\n",
      "deaths_rate_1529.csv\r\n",
      "deaths_rate_3044.csv\r\n",
      "deaths_rate_4559.csv\r\n",
      "deaths_rate_60plus.csv\r\n",
      "deaths_rate_all_age.csv\r\n"
     ]
    }
   ],
   "source": [
    "!ls -1 ../source/gbd"
   ]
  },
  {
   "cell_type": "code",
   "execution_count": null,
   "metadata": {},
   "outputs": [],
   "source": []
  },
  {
   "cell_type": "code",
   "execution_count": 4,
   "metadata": {},
   "outputs": [],
   "source": [
    "# note: both sexes is 3 in GBD but 0 in WHO, need to change that first"
   ]
  },
  {
   "cell_type": "code",
   "execution_count": null,
   "metadata": {},
   "outputs": [],
   "source": []
  },
  {
   "cell_type": "code",
   "execution_count": 6,
   "metadata": {},
   "outputs": [],
   "source": [
    "col_who = ['geo', 'year', 'cause', 'sex', 'value']\n",
    "col_gbd = ['geo', 'sex', 'cause', 'year', 'value']"
   ]
  },
  {
   "cell_type": "code",
   "execution_count": null,
   "metadata": {},
   "outputs": [],
   "source": []
  },
  {
   "cell_type": "code",
   "execution_count": 7,
   "metadata": {},
   "outputs": [],
   "source": [
    "def trend_bridge(left, right, bridge_length=10, bridge_point=1990):\n",
    "    left_ = left.set_index('year').sort_index()['value']\n",
    "    right_ = right.set_index('year').sort_index()['value']\n",
    "    \n",
    "    geo = right['geo'].values[0]\n",
    "    cause = right['cause'].values[0]\n",
    "    sex = right['sex'].values[0]\n",
    "    \n",
    "    if left_.index[0] >= bridge_point:\n",
    "        return right\n",
    "    \n",
    "    if bridge_point not in left_.index:\n",
    "        before = left_.loc[:bridge_point].index[-1]\n",
    "        if left_.index[-1] < bridge_point:\n",
    "            bridge_point = before\n",
    "        else:\n",
    "            after = left_.loc[bridge_point:].index[0]\n",
    "            if bridge_point - before >= after - bridge_point:\n",
    "                bridge_point = after\n",
    "            else:\n",
    "                bridge_point = before\n",
    "    \n",
    "    if bridge_point < 1990:\n",
    "        # bridge_height = right_.loc[1990] - left_.loc[bridge_point]\n",
    "        left_.loc[1990] = left_.loc[bridge_point]\n",
    "        left_ = left_.sort_index()\n",
    "        bridge_point = 1990\n",
    "        # merged = pd.concat([left_.loc[:bridge_point], right_.loc[:]])\n",
    "        \n",
    "    bridge_height = right_.loc[bridge_point] - left_.loc[bridge_point]\n",
    "\n",
    "    if len(left_.loc[:bridge_point]) < bridge_length:\n",
    "        bridge_length = len(left_.loc[:bridge_point])\n",
    "\n",
    "    left_ = left_.loc[:bridge_point]\n",
    "\n",
    "    bridge_start = left_.index[-bridge_length]\n",
    "\n",
    "    fraction = bridge_height / bridge_length\n",
    "\n",
    "    for t in left_.loc[bridge_start:].index:\n",
    "        left_.loc[t:] = left_.loc[t:] + fraction\n",
    "\n",
    "    merged = pd.concat([left_.iloc[:-1], right_.loc[bridge_point:]])\n",
    "        \n",
    "    merged = merged.reset_index()\n",
    "    merged['geo'] = geo\n",
    "    merged['cause'] = cause\n",
    "    merged['sex'] = sex\n",
    "    \n",
    "    merged = merged[['geo', 'sex', 'cause', 'year', 'value']]\n",
    "    \n",
    "    # import ipdb; ipdb.set_trace()\n",
    "    \n",
    "    return merged"
   ]
  },
  {
   "cell_type": "code",
   "execution_count": null,
   "metadata": {},
   "outputs": [],
   "source": []
  },
  {
   "cell_type": "code",
   "execution_count": 10,
   "metadata": {},
   "outputs": [],
   "source": [
    "def process(who_f, gbd_f):\n",
    "    who = pd.read_csv(who_f)\n",
    "    gbd = pd.read_csv(gbd_f)\n",
    "    \n",
    "    print(list(who.columns))\n",
    "    print(\"=>\")\n",
    "    print(col_who)\n",
    "    print(list(gbd.columns))\n",
    "    print(\"=>\")\n",
    "    print(col_gbd)\n",
    "    who.columns = col_who\n",
    "    gbd.columns = col_gbd\n",
    "    \n",
    "    who = who[['geo', 'sex', 'cause', 'year', 'value']]\n",
    "    gbd = gbd[['geo', 'sex', 'cause', 'year', 'value']]\n",
    "    gbd['sex'] = gbd['sex'].replace(3, 0)\n",
    "    \n",
    "    all_geos = set(np.r_[who.geo.unique(), gbd.geo.unique()])\n",
    "    \n",
    "    \n",
    "    to_concat = []\n",
    "\n",
    "    for g in all_geos:\n",
    "        for s in range(3):\n",
    "            for c in ['homicide', 'suicide', 'traffic']:\n",
    "                who_g = who[(who.geo == g) & (who.sex == s) & (who.cause == c)].copy()\n",
    "                gbd_g = gbd[(gbd.geo == g) & (gbd.sex == s) & (gbd.cause == c)].copy()\n",
    "                # print(who_g.dtypes['year'])\n",
    "                # print(gbd_g.dtypes['year'])\n",
    "                if who_g.empty and gbd_g.empty:\n",
    "                    continue\n",
    "                elif who_g.empty:\n",
    "                    to_concat.append(gbd_g)\n",
    "                elif gbd_g.empty:\n",
    "                    to_concat.append(who_g)\n",
    "                else:\n",
    "                    to_concat.append(trend_bridge(who_g, gbd_g))\n",
    "                    \n",
    "    res = pd.concat(to_concat, ignore_index=True, sort=False)\n",
    "    return res"
   ]
  },
  {
   "cell_type": "code",
   "execution_count": null,
   "metadata": {},
   "outputs": [],
   "source": []
  },
  {
   "cell_type": "code",
   "execution_count": null,
   "metadata": {},
   "outputs": [],
   "source": []
  },
  {
   "cell_type": "code",
   "execution_count": 7,
   "metadata": {},
   "outputs": [],
   "source": [
    "# all_age"
   ]
  },
  {
   "cell_type": "code",
   "execution_count": 9,
   "metadata": {},
   "outputs": [
    {
     "name": "stdout",
     "output_type": "stream",
     "text": [
      "Index(['geo', 'year', 'cause', 'sex', 'ratedall'], dtype='object')\n",
      "=>\n",
      "['geo', 'year', 'cause', 'sex', 'value']\n",
      "Index(['location', 'sex', 'cause', 'year', 'deaths_rate_all_age'], dtype='object')\n",
      "=>\n",
      "['geo', 'sex', 'cause', 'year', 'value']\n"
     ]
    }
   ],
   "source": [
    "all_age = process('../source/who/ratedall.csv', '../source/gbd/deaths_rate_all_age.csv')"
   ]
  },
  {
   "cell_type": "code",
   "execution_count": 16,
   "metadata": {},
   "outputs": [],
   "source": [
    "all_age = all_age.sort_values(by=['geo', 'sex', 'cause', 'year'])\n",
    "\n",
    "all_age['value'] = all_age['value'].map(format_float_digits)\n",
    "\n",
    "all_age = all_age.rename(columns={'value': 'deaths_rate_all_ages'})\n",
    "\n",
    "all_age.to_csv('../../ddf--datapoints--deaths_rate_all_ages--by--geo--sex--cause--year.csv', index=False)"
   ]
  },
  {
   "cell_type": "code",
   "execution_count": null,
   "metadata": {},
   "outputs": [],
   "source": []
  },
  {
   "cell_type": "code",
   "execution_count": 17,
   "metadata": {},
   "outputs": [
    {
     "data": {
      "text/html": [
       "<div>\n",
       "<style scoped>\n",
       "    .dataframe tbody tr th:only-of-type {\n",
       "        vertical-align: middle;\n",
       "    }\n",
       "\n",
       "    .dataframe tbody tr th {\n",
       "        vertical-align: top;\n",
       "    }\n",
       "\n",
       "    .dataframe thead th {\n",
       "        text-align: right;\n",
       "    }\n",
       "</style>\n",
       "<table border=\"1\" class=\"dataframe\">\n",
       "  <thead>\n",
       "    <tr style=\"text-align: right;\">\n",
       "      <th></th>\n",
       "      <th>geo</th>\n",
       "      <th>sex</th>\n",
       "      <th>cause</th>\n",
       "      <th>year</th>\n",
       "      <th>deaths_rate_all_ages</th>\n",
       "    </tr>\n",
       "  </thead>\n",
       "  <tbody>\n",
       "    <tr>\n",
       "      <th>5886</th>\n",
       "      <td>afg</td>\n",
       "      <td>0</td>\n",
       "      <td>homicide</td>\n",
       "      <td>1990</td>\n",
       "      <td>20.41</td>\n",
       "    </tr>\n",
       "    <tr>\n",
       "      <th>5887</th>\n",
       "      <td>afg</td>\n",
       "      <td>0</td>\n",
       "      <td>homicide</td>\n",
       "      <td>1991</td>\n",
       "      <td>20.54</td>\n",
       "    </tr>\n",
       "    <tr>\n",
       "      <th>5888</th>\n",
       "      <td>afg</td>\n",
       "      <td>0</td>\n",
       "      <td>homicide</td>\n",
       "      <td>1992</td>\n",
       "      <td>20.76</td>\n",
       "    </tr>\n",
       "    <tr>\n",
       "      <th>5889</th>\n",
       "      <td>afg</td>\n",
       "      <td>0</td>\n",
       "      <td>homicide</td>\n",
       "      <td>1993</td>\n",
       "      <td>21.08</td>\n",
       "    </tr>\n",
       "    <tr>\n",
       "      <th>5890</th>\n",
       "      <td>afg</td>\n",
       "      <td>0</td>\n",
       "      <td>homicide</td>\n",
       "      <td>1994</td>\n",
       "      <td>21.46</td>\n",
       "    </tr>\n",
       "  </tbody>\n",
       "</table>\n",
       "</div>"
      ],
      "text/plain": [
       "      geo  sex     cause  year deaths_rate_all_ages\n",
       "5886  afg    0  homicide  1990                20.41\n",
       "5887  afg    0  homicide  1991                20.54\n",
       "5888  afg    0  homicide  1992                20.76\n",
       "5889  afg    0  homicide  1993                21.08\n",
       "5890  afg    0  homicide  1994                21.46"
      ]
     },
     "execution_count": 17,
     "metadata": {},
     "output_type": "execute_result"
    }
   ],
   "source": [
    "all_age.head()"
   ]
  },
  {
   "cell_type": "code",
   "execution_count": 11,
   "metadata": {},
   "outputs": [],
   "source": [
    "# 014"
   ]
  },
  {
   "cell_type": "code",
   "execution_count": 32,
   "metadata": {},
   "outputs": [
    {
     "name": "stdout",
     "output_type": "stream",
     "text": [
      "['geo', 'year', 'cause', 'sex', 'rated_0_14']\n",
      "=>\n",
      "['geo', 'year', 'cause', 'sex', 'value']\n",
      "['location', 'sex', 'cause', 'year', 'deaths_rate']\n",
      "=>\n",
      "['geo', 'sex', 'cause', 'year', 'value']\n"
     ]
    }
   ],
   "source": [
    "rate014 = process('../source/who/rated_0_14.csv', '../source/gbd/deaths_rate_014.csv')"
   ]
  },
  {
   "cell_type": "code",
   "execution_count": 33,
   "metadata": {},
   "outputs": [],
   "source": [
    "rate014 = rate014.sort_values(by=['geo', 'sex', 'cause', 'year'])\n",
    "\n",
    "rate014['value'] = rate014['value'].map(format_float_digits)\n",
    "\n",
    "rate014 = rate014.rename(columns={'value': 'deaths_rate_0_14'})\n",
    "\n",
    "rate014.to_csv('../../ddf--datapoints--deaths_rate_0_14--by--geo--sex--cause--year.csv', index=False)"
   ]
  },
  {
   "cell_type": "code",
   "execution_count": 20,
   "metadata": {},
   "outputs": [
    {
     "data": {
      "text/html": [
       "<div>\n",
       "<style scoped>\n",
       "    .dataframe tbody tr th:only-of-type {\n",
       "        vertical-align: middle;\n",
       "    }\n",
       "\n",
       "    .dataframe tbody tr th {\n",
       "        vertical-align: top;\n",
       "    }\n",
       "\n",
       "    .dataframe thead th {\n",
       "        text-align: right;\n",
       "    }\n",
       "</style>\n",
       "<table border=\"1\" class=\"dataframe\">\n",
       "  <thead>\n",
       "    <tr style=\"text-align: right;\">\n",
       "      <th></th>\n",
       "      <th>geo</th>\n",
       "      <th>sex</th>\n",
       "      <th>cause</th>\n",
       "      <th>year</th>\n",
       "      <th>deaths_rate_0_14</th>\n",
       "    </tr>\n",
       "  </thead>\n",
       "  <tbody>\n",
       "    <tr>\n",
       "      <th>4851</th>\n",
       "      <td>afg</td>\n",
       "      <td>0</td>\n",
       "      <td>homicide</td>\n",
       "      <td>1990</td>\n",
       "      <td>2.56621</td>\n",
       "    </tr>\n",
       "    <tr>\n",
       "      <th>4852</th>\n",
       "      <td>afg</td>\n",
       "      <td>0</td>\n",
       "      <td>homicide</td>\n",
       "      <td>1991</td>\n",
       "      <td>2.55601</td>\n",
       "    </tr>\n",
       "    <tr>\n",
       "      <th>4853</th>\n",
       "      <td>afg</td>\n",
       "      <td>0</td>\n",
       "      <td>homicide</td>\n",
       "      <td>1992</td>\n",
       "      <td>2.56598</td>\n",
       "    </tr>\n",
       "    <tr>\n",
       "      <th>4854</th>\n",
       "      <td>afg</td>\n",
       "      <td>0</td>\n",
       "      <td>homicide</td>\n",
       "      <td>1993</td>\n",
       "      <td>2.59601</td>\n",
       "    </tr>\n",
       "    <tr>\n",
       "      <th>4855</th>\n",
       "      <td>afg</td>\n",
       "      <td>0</td>\n",
       "      <td>homicide</td>\n",
       "      <td>1994</td>\n",
       "      <td>2.64272</td>\n",
       "    </tr>\n",
       "  </tbody>\n",
       "</table>\n",
       "</div>"
      ],
      "text/plain": [
       "      geo  sex     cause  year deaths_rate_0_14\n",
       "4851  afg    0  homicide  1990          2.56621\n",
       "4852  afg    0  homicide  1991          2.55601\n",
       "4853  afg    0  homicide  1992          2.56598\n",
       "4854  afg    0  homicide  1993          2.59601\n",
       "4855  afg    0  homicide  1994          2.64272"
      ]
     },
     "execution_count": 20,
     "metadata": {},
     "output_type": "execute_result"
    }
   ],
   "source": [
    "rate014.head()"
   ]
  },
  {
   "cell_type": "code",
   "execution_count": null,
   "metadata": {},
   "outputs": [],
   "source": []
  },
  {
   "cell_type": "code",
   "execution_count": null,
   "metadata": {},
   "outputs": [],
   "source": [
    "# 1529"
   ]
  },
  {
   "cell_type": "code",
   "execution_count": 21,
   "metadata": {},
   "outputs": [
    {
     "name": "stdout",
     "output_type": "stream",
     "text": [
      "['geo', 'year', 'cause', 'sex', 'rated_15_29']\n",
      "=>\n",
      "['geo', 'year', 'cause', 'sex', 'value']\n",
      "['location', 'sex', 'cause', 'year', 'deaths_rate']\n",
      "=>\n",
      "['geo', 'sex', 'cause', 'year', 'value']\n"
     ]
    }
   ],
   "source": [
    "rate1529 = process('../source/who/rated_15_29.csv', '../source/gbd/deaths_rate_1529.csv')"
   ]
  },
  {
   "cell_type": "code",
   "execution_count": 22,
   "metadata": {},
   "outputs": [],
   "source": [
    "rate1529 = rate1529.sort_values(by=['geo', 'sex', 'cause', 'year'])\n",
    "\n",
    "rate1529['value'] = rate1529['value'].map(format_float_digits)\n",
    "\n",
    "rate1529 = rate1529.rename(columns={'value': 'deaths_rate_15_29'})\n",
    "\n",
    "rate1529.to_csv('../../ddf--datapoints--deaths_rate_15_29--by--geo--sex--cause--year.csv', index=False)"
   ]
  },
  {
   "cell_type": "code",
   "execution_count": null,
   "metadata": {},
   "outputs": [],
   "source": []
  },
  {
   "cell_type": "code",
   "execution_count": null,
   "metadata": {},
   "outputs": [],
   "source": [
    "#3044"
   ]
  },
  {
   "cell_type": "code",
   "execution_count": 24,
   "metadata": {},
   "outputs": [
    {
     "name": "stdout",
     "output_type": "stream",
     "text": [
      "['geo', 'year', 'cause', 'sex', 'rated_30_44']\n",
      "=>\n",
      "['geo', 'year', 'cause', 'sex', 'value']\n",
      "['location', 'sex', 'cause', 'year', 'deaths_rate']\n",
      "=>\n",
      "['geo', 'sex', 'cause', 'year', 'value']\n"
     ]
    }
   ],
   "source": [
    "rate3044 = process('../source/who/rated_30_44.csv', '../source/gbd/deaths_rate_3044.csv')"
   ]
  },
  {
   "cell_type": "code",
   "execution_count": 25,
   "metadata": {},
   "outputs": [],
   "source": [
    "rate3044 = rate3044.sort_values(by=['geo', 'sex', 'cause', 'year'])\n",
    "\n",
    "rate3044['value'] = rate3044['value'].map(format_float_digits)\n",
    "\n",
    "rate3044 = rate3044.rename(columns={'value': 'deaths_rate_30_44'})\n",
    "\n",
    "rate3044.to_csv('../../ddf--datapoints--deaths_rate_30_44--by--geo--sex--cause--year.csv', index=False)"
   ]
  },
  {
   "cell_type": "code",
   "execution_count": null,
   "metadata": {},
   "outputs": [],
   "source": []
  },
  {
   "cell_type": "code",
   "execution_count": null,
   "metadata": {},
   "outputs": [],
   "source": [
    "#4559"
   ]
  },
  {
   "cell_type": "code",
   "execution_count": 26,
   "metadata": {},
   "outputs": [
    {
     "name": "stdout",
     "output_type": "stream",
     "text": [
      "['geo', 'year', 'cause', 'sex', 'rated_45_59']\n",
      "=>\n",
      "['geo', 'year', 'cause', 'sex', 'value']\n",
      "['location', 'sex', 'cause', 'year', 'deaths_rate']\n",
      "=>\n",
      "['geo', 'sex', 'cause', 'year', 'value']\n"
     ]
    }
   ],
   "source": [
    "rate4559 = process('../source/who/rated_45_59.csv', '../source/gbd/deaths_rate_4559.csv')"
   ]
  },
  {
   "cell_type": "code",
   "execution_count": 27,
   "metadata": {},
   "outputs": [],
   "source": [
    "rate4559 = rate4559.sort_values(by=['geo', 'sex', 'cause', 'year'])\n",
    "\n",
    "rate4559['value'] = rate4559['value'].map(format_float_digits)\n",
    "\n",
    "rate4559 = rate4559.rename(columns={'value': 'deaths_rate_45_59'})\n",
    "\n",
    "rate4559.to_csv('../../ddf--datapoints--deaths_rate_45_59--by--geo--sex--cause--year.csv', index=False)"
   ]
  },
  {
   "cell_type": "code",
   "execution_count": null,
   "metadata": {},
   "outputs": [],
   "source": []
  },
  {
   "cell_type": "code",
   "execution_count": null,
   "metadata": {},
   "outputs": [],
   "source": [
    "# 60plus"
   ]
  },
  {
   "cell_type": "code",
   "execution_count": 28,
   "metadata": {},
   "outputs": [
    {
     "name": "stdout",
     "output_type": "stream",
     "text": [
      "['geo', 'year', 'cause', 'sex', 'rated_60+']\n",
      "=>\n",
      "['geo', 'year', 'cause', 'sex', 'value']\n",
      "['location', 'sex', 'cause', 'year', 'deaths_rate']\n",
      "=>\n",
      "['geo', 'sex', 'cause', 'year', 'value']\n"
     ]
    }
   ],
   "source": [
    "rate60 = process('../source/who/rated_60+.csv', '../source/gbd/deaths_rate_60plus.csv')"
   ]
  },
  {
   "cell_type": "code",
   "execution_count": 29,
   "metadata": {},
   "outputs": [],
   "source": [
    "rate60 = rate60.sort_values(by=['geo', 'sex', 'cause', 'year'])\n",
    "\n",
    "rate60['value'] = rate60['value'].map(format_float_digits)\n",
    "\n",
    "rate60 = rate60.rename(columns={'value': 'deaths_rate_60plus'})\n",
    "\n",
    "rate60.to_csv('../../ddf--datapoints--deaths_rate_60plus--by--geo--sex--cause--year.csv', index=False)"
   ]
  },
  {
   "cell_type": "code",
   "execution_count": null,
   "metadata": {},
   "outputs": [],
   "source": []
  },
  {
   "cell_type": "code",
   "execution_count": null,
   "metadata": {},
   "outputs": [],
   "source": []
  },
  {
   "cell_type": "code",
   "execution_count": 30,
   "metadata": {},
   "outputs": [],
   "source": [
    "# concepts"
   ]
  },
  {
   "cell_type": "code",
   "execution_count": 35,
   "metadata": {},
   "outputs": [],
   "source": [
    "measures = ['deaths_rate_all_ages', \n",
    "            'deaths_rate_0_14', \n",
    "            'deaths_rate_15_29', \n",
    "            'deaths_rate_30_44', \n",
    "            'deaths_rate_45_59', \n",
    "            'deaths_rate_60plus'\n",
    "           ]\n",
    "\n",
    "cdf = pd.DataFrame(measures, columns=['concept'])"
   ]
  },
  {
   "cell_type": "code",
   "execution_count": 37,
   "metadata": {},
   "outputs": [],
   "source": [
    "cdf['name'] = cdf['concept'].map(lambda x: x.replace('_', ' ').title())"
   ]
  },
  {
   "cell_type": "code",
   "execution_count": 38,
   "metadata": {},
   "outputs": [],
   "source": [
    "cdf['concept_type'] = 'measure'"
   ]
  },
  {
   "cell_type": "code",
   "execution_count": 42,
   "metadata": {},
   "outputs": [],
   "source": [
    "ddf = pd.DataFrame([['name', 'Name', 'string'],\n",
    "                    ['geo', 'Geo', 'entity_domain'],\n",
    "                    ['sex', 'Sex', 'entity_domain'],\n",
    "                    ['cause', 'Cause', 'entity_domain'],\n",
    "                    ['year', 'Year', 'time']], columns=['concept', 'name', 'concept_type'])"
   ]
  },
  {
   "cell_type": "code",
   "execution_count": 43,
   "metadata": {},
   "outputs": [
    {
     "data": {
      "text/html": [
       "<div>\n",
       "<style scoped>\n",
       "    .dataframe tbody tr th:only-of-type {\n",
       "        vertical-align: middle;\n",
       "    }\n",
       "\n",
       "    .dataframe tbody tr th {\n",
       "        vertical-align: top;\n",
       "    }\n",
       "\n",
       "    .dataframe thead th {\n",
       "        text-align: right;\n",
       "    }\n",
       "</style>\n",
       "<table border=\"1\" class=\"dataframe\">\n",
       "  <thead>\n",
       "    <tr style=\"text-align: right;\">\n",
       "      <th></th>\n",
       "      <th>concept</th>\n",
       "      <th>name</th>\n",
       "      <th>concept_type</th>\n",
       "    </tr>\n",
       "  </thead>\n",
       "  <tbody>\n",
       "    <tr>\n",
       "      <th>0</th>\n",
       "      <td>name</td>\n",
       "      <td>Name</td>\n",
       "      <td>string</td>\n",
       "    </tr>\n",
       "    <tr>\n",
       "      <th>1</th>\n",
       "      <td>geo</td>\n",
       "      <td>Geo</td>\n",
       "      <td>entity_domain</td>\n",
       "    </tr>\n",
       "    <tr>\n",
       "      <th>2</th>\n",
       "      <td>sex</td>\n",
       "      <td>Sex</td>\n",
       "      <td>entity_domain</td>\n",
       "    </tr>\n",
       "    <tr>\n",
       "      <th>3</th>\n",
       "      <td>cause</td>\n",
       "      <td>Cause</td>\n",
       "      <td>entity_domain</td>\n",
       "    </tr>\n",
       "    <tr>\n",
       "      <th>4</th>\n",
       "      <td>year</td>\n",
       "      <td>Year</td>\n",
       "      <td>time</td>\n",
       "    </tr>\n",
       "  </tbody>\n",
       "</table>\n",
       "</div>"
      ],
      "text/plain": [
       "  concept   name   concept_type\n",
       "0    name   Name         string\n",
       "1     geo    Geo  entity_domain\n",
       "2     sex    Sex  entity_domain\n",
       "3   cause  Cause  entity_domain\n",
       "4    year   Year           time"
      ]
     },
     "execution_count": 43,
     "metadata": {},
     "output_type": "execute_result"
    }
   ],
   "source": [
    "ddf"
   ]
  },
  {
   "cell_type": "code",
   "execution_count": 44,
   "metadata": {},
   "outputs": [],
   "source": [
    "concepts_df = pd.concat([cdf, ddf], ignore_index=True)"
   ]
  },
  {
   "cell_type": "code",
   "execution_count": 46,
   "metadata": {},
   "outputs": [],
   "source": [
    "concepts_df.to_csv('../../ddf--concepts.csv', index=False)"
   ]
  },
  {
   "cell_type": "code",
   "execution_count": null,
   "metadata": {},
   "outputs": [],
   "source": []
  },
  {
   "cell_type": "code",
   "execution_count": null,
   "metadata": {},
   "outputs": [],
   "source": [
    "# below are drafts"
   ]
  },
  {
   "cell_type": "code",
   "execution_count": null,
   "metadata": {},
   "outputs": [],
   "source": []
  },
  {
   "cell_type": "code",
   "execution_count": 8,
   "metadata": {},
   "outputs": [],
   "source": [
    "who = pd.read_csv('../source/who/ratedall.csv')\n",
    "gbd = pd.read_csv('../source/gbd/deaths_rate_all_age.csv')"
   ]
  },
  {
   "cell_type": "code",
   "execution_count": 9,
   "metadata": {},
   "outputs": [
    {
     "data": {
      "text/plain": [
       "Index(['geo', 'year', 'cause', 'sex', 'ratedall'], dtype='object')"
      ]
     },
     "execution_count": 9,
     "metadata": {},
     "output_type": "execute_result"
    }
   ],
   "source": [
    "who.columns"
   ]
  },
  {
   "cell_type": "code",
   "execution_count": 10,
   "metadata": {},
   "outputs": [
    {
     "data": {
      "text/plain": [
       "Index(['location', 'sex', 'cause', 'year', 'deaths_rate_all_age'], dtype='object')"
      ]
     },
     "execution_count": 10,
     "metadata": {},
     "output_type": "execute_result"
    }
   ],
   "source": [
    "gbd.columns"
   ]
  },
  {
   "cell_type": "code",
   "execution_count": 11,
   "metadata": {},
   "outputs": [],
   "source": [
    "who.columns = col_who\n",
    "gbd.columns = col_gbd"
   ]
  },
  {
   "cell_type": "code",
   "execution_count": 12,
   "metadata": {},
   "outputs": [],
   "source": [
    "who = who[['geo', 'sex', 'cause', 'year', 'value']]"
   ]
  },
  {
   "cell_type": "code",
   "execution_count": 13,
   "metadata": {},
   "outputs": [],
   "source": [
    "gbd['sex'] = gbd['sex'].replace(3, 0)"
   ]
  },
  {
   "cell_type": "code",
   "execution_count": 14,
   "metadata": {},
   "outputs": [
    {
     "data": {
      "text/plain": [
       "(22822, 5)"
      ]
     },
     "execution_count": 14,
     "metadata": {},
     "output_type": "execute_result"
    }
   ],
   "source": [
    "who.shape"
   ]
  },
  {
   "cell_type": "code",
   "execution_count": 15,
   "metadata": {},
   "outputs": [
    {
     "data": {
      "text/plain": [
       "(47142, 5)"
      ]
     },
     "execution_count": 15,
     "metadata": {},
     "output_type": "execute_result"
    }
   ],
   "source": [
    "gbd.shape"
   ]
  },
  {
   "cell_type": "code",
   "execution_count": 16,
   "metadata": {},
   "outputs": [
    {
     "data": {
      "text/plain": [
       "69964"
      ]
     },
     "execution_count": 16,
     "metadata": {},
     "output_type": "execute_result"
    }
   ],
   "source": [
    "22822 + 47142"
   ]
  },
  {
   "cell_type": "code",
   "execution_count": null,
   "metadata": {},
   "outputs": [],
   "source": []
  },
  {
   "cell_type": "code",
   "execution_count": null,
   "metadata": {},
   "outputs": [],
   "source": []
  },
  {
   "cell_type": "code",
   "execution_count": 17,
   "metadata": {},
   "outputs": [],
   "source": [
    "all_geos = set(np.r_[who.geo.unique(), gbd.geo.unique()])"
   ]
  },
  {
   "cell_type": "code",
   "execution_count": null,
   "metadata": {},
   "outputs": [],
   "source": []
  },
  {
   "cell_type": "code",
   "execution_count": 41,
   "metadata": {
    "scrolled": true
   },
   "outputs": [],
   "source": [
    "to_concat = []\n",
    "\n",
    "for g in all_geos:\n",
    "    for s in range(3):\n",
    "        for c in ['homicide', 'suicide', 'traffic']:\n",
    "            who_g = who[(who.geo == g) & (who.sex == s) & (who.cause == c)].copy()\n",
    "            gbd_g = gbd[(gbd.geo == g) & (gbd.sex == s) & (gbd.cause == c)].copy()\n",
    "            # print(who_g.dtypes['year'])\n",
    "            # print(gbd_g.dtypes['year'])\n",
    "            if who_g.empty and gbd_g.empty:\n",
    "                continue\n",
    "            elif who_g.empty:\n",
    "                to_concat.append(gbd_g)\n",
    "            elif gbd_g.empty:\n",
    "                to_concat.append(who_g)\n",
    "            else:\n",
    "                to_concat.append(trend_bridge(who_g, gbd_g))"
   ]
  },
  {
   "cell_type": "code",
   "execution_count": 42,
   "metadata": {
    "scrolled": true
   },
   "outputs": [],
   "source": [
    "res = pd.concat(to_concat, ignore_index=True, sort=False)"
   ]
  },
  {
   "cell_type": "code",
   "execution_count": 43,
   "metadata": {},
   "outputs": [
    {
     "data": {
      "text/html": [
       "<div>\n",
       "<style scoped>\n",
       "    .dataframe tbody tr th:only-of-type {\n",
       "        vertical-align: middle;\n",
       "    }\n",
       "\n",
       "    .dataframe tbody tr th {\n",
       "        vertical-align: top;\n",
       "    }\n",
       "\n",
       "    .dataframe thead th {\n",
       "        text-align: right;\n",
       "    }\n",
       "</style>\n",
       "<table border=\"1\" class=\"dataframe\">\n",
       "  <thead>\n",
       "    <tr style=\"text-align: right;\">\n",
       "      <th></th>\n",
       "      <th>geo</th>\n",
       "      <th>sex</th>\n",
       "      <th>cause</th>\n",
       "      <th>year</th>\n",
       "      <th>value</th>\n",
       "    </tr>\n",
       "  </thead>\n",
       "  <tbody>\n",
       "  </tbody>\n",
       "</table>\n",
       "</div>"
      ],
      "text/plain": [
       "Empty DataFrame\n",
       "Columns: [geo, sex, cause, year, value]\n",
       "Index: []"
      ]
     },
     "execution_count": 43,
     "metadata": {},
     "output_type": "execute_result"
    }
   ],
   "source": [
    "res[res.duplicated(subset=['geo', 'sex', 'cause', 'year'])]"
   ]
  },
  {
   "cell_type": "code",
   "execution_count": 44,
   "metadata": {
    "scrolled": true
   },
   "outputs": [
    {
     "data": {
      "text/html": [
       "<div>\n",
       "<style scoped>\n",
       "    .dataframe tbody tr th:only-of-type {\n",
       "        vertical-align: middle;\n",
       "    }\n",
       "\n",
       "    .dataframe tbody tr th {\n",
       "        vertical-align: top;\n",
       "    }\n",
       "\n",
       "    .dataframe thead th {\n",
       "        text-align: right;\n",
       "    }\n",
       "</style>\n",
       "<table border=\"1\" class=\"dataframe\">\n",
       "  <thead>\n",
       "    <tr style=\"text-align: right;\">\n",
       "      <th></th>\n",
       "      <th>geo</th>\n",
       "      <th>sex</th>\n",
       "      <th>cause</th>\n",
       "      <th>year</th>\n",
       "      <th>value</th>\n",
       "    </tr>\n",
       "  </thead>\n",
       "  <tbody>\n",
       "    <tr>\n",
       "      <th>0</th>\n",
       "      <td>sen</td>\n",
       "      <td>0</td>\n",
       "      <td>homicide</td>\n",
       "      <td>1990</td>\n",
       "      <td>1.610000</td>\n",
       "    </tr>\n",
       "    <tr>\n",
       "      <th>1</th>\n",
       "      <td>sen</td>\n",
       "      <td>0</td>\n",
       "      <td>homicide</td>\n",
       "      <td>1991</td>\n",
       "      <td>1.550000</td>\n",
       "    </tr>\n",
       "    <tr>\n",
       "      <th>2</th>\n",
       "      <td>sen</td>\n",
       "      <td>0</td>\n",
       "      <td>homicide</td>\n",
       "      <td>1992</td>\n",
       "      <td>1.510000</td>\n",
       "    </tr>\n",
       "    <tr>\n",
       "      <th>3</th>\n",
       "      <td>sen</td>\n",
       "      <td>0</td>\n",
       "      <td>homicide</td>\n",
       "      <td>1993</td>\n",
       "      <td>1.450000</td>\n",
       "    </tr>\n",
       "    <tr>\n",
       "      <th>4</th>\n",
       "      <td>sen</td>\n",
       "      <td>0</td>\n",
       "      <td>homicide</td>\n",
       "      <td>1994</td>\n",
       "      <td>1.460000</td>\n",
       "    </tr>\n",
       "    <tr>\n",
       "      <th>5</th>\n",
       "      <td>sen</td>\n",
       "      <td>0</td>\n",
       "      <td>homicide</td>\n",
       "      <td>1995</td>\n",
       "      <td>1.400000</td>\n",
       "    </tr>\n",
       "    <tr>\n",
       "      <th>6</th>\n",
       "      <td>sen</td>\n",
       "      <td>0</td>\n",
       "      <td>homicide</td>\n",
       "      <td>1996</td>\n",
       "      <td>1.370000</td>\n",
       "    </tr>\n",
       "    <tr>\n",
       "      <th>7</th>\n",
       "      <td>sen</td>\n",
       "      <td>0</td>\n",
       "      <td>homicide</td>\n",
       "      <td>1997</td>\n",
       "      <td>1.370000</td>\n",
       "    </tr>\n",
       "    <tr>\n",
       "      <th>8</th>\n",
       "      <td>sen</td>\n",
       "      <td>0</td>\n",
       "      <td>homicide</td>\n",
       "      <td>1998</td>\n",
       "      <td>1.360000</td>\n",
       "    </tr>\n",
       "    <tr>\n",
       "      <th>9</th>\n",
       "      <td>sen</td>\n",
       "      <td>0</td>\n",
       "      <td>homicide</td>\n",
       "      <td>1999</td>\n",
       "      <td>1.380000</td>\n",
       "    </tr>\n",
       "    <tr>\n",
       "      <th>10</th>\n",
       "      <td>sen</td>\n",
       "      <td>0</td>\n",
       "      <td>homicide</td>\n",
       "      <td>2000</td>\n",
       "      <td>1.380000</td>\n",
       "    </tr>\n",
       "    <tr>\n",
       "      <th>11</th>\n",
       "      <td>sen</td>\n",
       "      <td>0</td>\n",
       "      <td>homicide</td>\n",
       "      <td>2001</td>\n",
       "      <td>1.390000</td>\n",
       "    </tr>\n",
       "    <tr>\n",
       "      <th>12</th>\n",
       "      <td>sen</td>\n",
       "      <td>0</td>\n",
       "      <td>homicide</td>\n",
       "      <td>2002</td>\n",
       "      <td>1.390000</td>\n",
       "    </tr>\n",
       "    <tr>\n",
       "      <th>13</th>\n",
       "      <td>sen</td>\n",
       "      <td>0</td>\n",
       "      <td>homicide</td>\n",
       "      <td>2003</td>\n",
       "      <td>1.370000</td>\n",
       "    </tr>\n",
       "    <tr>\n",
       "      <th>14</th>\n",
       "      <td>sen</td>\n",
       "      <td>0</td>\n",
       "      <td>homicide</td>\n",
       "      <td>2004</td>\n",
       "      <td>1.430000</td>\n",
       "    </tr>\n",
       "    <tr>\n",
       "      <th>15</th>\n",
       "      <td>sen</td>\n",
       "      <td>0</td>\n",
       "      <td>homicide</td>\n",
       "      <td>2005</td>\n",
       "      <td>1.440000</td>\n",
       "    </tr>\n",
       "    <tr>\n",
       "      <th>16</th>\n",
       "      <td>sen</td>\n",
       "      <td>0</td>\n",
       "      <td>homicide</td>\n",
       "      <td>2006</td>\n",
       "      <td>1.450000</td>\n",
       "    </tr>\n",
       "    <tr>\n",
       "      <th>17</th>\n",
       "      <td>sen</td>\n",
       "      <td>0</td>\n",
       "      <td>homicide</td>\n",
       "      <td>2007</td>\n",
       "      <td>1.450000</td>\n",
       "    </tr>\n",
       "    <tr>\n",
       "      <th>18</th>\n",
       "      <td>sen</td>\n",
       "      <td>0</td>\n",
       "      <td>homicide</td>\n",
       "      <td>2008</td>\n",
       "      <td>1.440000</td>\n",
       "    </tr>\n",
       "    <tr>\n",
       "      <th>19</th>\n",
       "      <td>sen</td>\n",
       "      <td>0</td>\n",
       "      <td>homicide</td>\n",
       "      <td>2009</td>\n",
       "      <td>1.430000</td>\n",
       "    </tr>\n",
       "    <tr>\n",
       "      <th>20</th>\n",
       "      <td>sen</td>\n",
       "      <td>0</td>\n",
       "      <td>homicide</td>\n",
       "      <td>2010</td>\n",
       "      <td>1.430000</td>\n",
       "    </tr>\n",
       "    <tr>\n",
       "      <th>21</th>\n",
       "      <td>sen</td>\n",
       "      <td>0</td>\n",
       "      <td>homicide</td>\n",
       "      <td>2011</td>\n",
       "      <td>1.440000</td>\n",
       "    </tr>\n",
       "    <tr>\n",
       "      <th>22</th>\n",
       "      <td>sen</td>\n",
       "      <td>0</td>\n",
       "      <td>homicide</td>\n",
       "      <td>2012</td>\n",
       "      <td>1.440000</td>\n",
       "    </tr>\n",
       "    <tr>\n",
       "      <th>23</th>\n",
       "      <td>sen</td>\n",
       "      <td>0</td>\n",
       "      <td>homicide</td>\n",
       "      <td>2013</td>\n",
       "      <td>1.450000</td>\n",
       "    </tr>\n",
       "    <tr>\n",
       "      <th>24</th>\n",
       "      <td>sen</td>\n",
       "      <td>0</td>\n",
       "      <td>homicide</td>\n",
       "      <td>2014</td>\n",
       "      <td>1.460000</td>\n",
       "    </tr>\n",
       "    <tr>\n",
       "      <th>25</th>\n",
       "      <td>sen</td>\n",
       "      <td>0</td>\n",
       "      <td>homicide</td>\n",
       "      <td>2015</td>\n",
       "      <td>1.460000</td>\n",
       "    </tr>\n",
       "    <tr>\n",
       "      <th>26</th>\n",
       "      <td>sen</td>\n",
       "      <td>0</td>\n",
       "      <td>homicide</td>\n",
       "      <td>2016</td>\n",
       "      <td>1.460000</td>\n",
       "    </tr>\n",
       "    <tr>\n",
       "      <th>27</th>\n",
       "      <td>sen</td>\n",
       "      <td>0</td>\n",
       "      <td>suicide</td>\n",
       "      <td>1990</td>\n",
       "      <td>11.520000</td>\n",
       "    </tr>\n",
       "    <tr>\n",
       "      <th>28</th>\n",
       "      <td>sen</td>\n",
       "      <td>0</td>\n",
       "      <td>suicide</td>\n",
       "      <td>1991</td>\n",
       "      <td>11.540000</td>\n",
       "    </tr>\n",
       "    <tr>\n",
       "      <th>29</th>\n",
       "      <td>sen</td>\n",
       "      <td>0</td>\n",
       "      <td>suicide</td>\n",
       "      <td>1992</td>\n",
       "      <td>11.690000</td>\n",
       "    </tr>\n",
       "    <tr>\n",
       "      <th>...</th>\n",
       "      <td>...</td>\n",
       "      <td>...</td>\n",
       "      <td>...</td>\n",
       "      <td>...</td>\n",
       "      <td>...</td>\n",
       "    </tr>\n",
       "    <tr>\n",
       "      <th>60561</th>\n",
       "      <td>nld</td>\n",
       "      <td>2</td>\n",
       "      <td>traffic</td>\n",
       "      <td>1987</td>\n",
       "      <td>6.108756</td>\n",
       "    </tr>\n",
       "    <tr>\n",
       "      <th>60562</th>\n",
       "      <td>nld</td>\n",
       "      <td>2</td>\n",
       "      <td>traffic</td>\n",
       "      <td>1988</td>\n",
       "      <td>5.897470</td>\n",
       "    </tr>\n",
       "    <tr>\n",
       "      <th>60563</th>\n",
       "      <td>nld</td>\n",
       "      <td>2</td>\n",
       "      <td>traffic</td>\n",
       "      <td>1989</td>\n",
       "      <td>6.540002</td>\n",
       "    </tr>\n",
       "    <tr>\n",
       "      <th>60564</th>\n",
       "      <td>nld</td>\n",
       "      <td>2</td>\n",
       "      <td>traffic</td>\n",
       "      <td>1990</td>\n",
       "      <td>6.100000</td>\n",
       "    </tr>\n",
       "    <tr>\n",
       "      <th>60565</th>\n",
       "      <td>nld</td>\n",
       "      <td>2</td>\n",
       "      <td>traffic</td>\n",
       "      <td>1991</td>\n",
       "      <td>5.890000</td>\n",
       "    </tr>\n",
       "    <tr>\n",
       "      <th>60566</th>\n",
       "      <td>nld</td>\n",
       "      <td>2</td>\n",
       "      <td>traffic</td>\n",
       "      <td>1992</td>\n",
       "      <td>5.760000</td>\n",
       "    </tr>\n",
       "    <tr>\n",
       "      <th>60567</th>\n",
       "      <td>nld</td>\n",
       "      <td>2</td>\n",
       "      <td>traffic</td>\n",
       "      <td>1993</td>\n",
       "      <td>5.550000</td>\n",
       "    </tr>\n",
       "    <tr>\n",
       "      <th>60568</th>\n",
       "      <td>nld</td>\n",
       "      <td>2</td>\n",
       "      <td>traffic</td>\n",
       "      <td>1994</td>\n",
       "      <td>5.390000</td>\n",
       "    </tr>\n",
       "    <tr>\n",
       "      <th>60569</th>\n",
       "      <td>nld</td>\n",
       "      <td>2</td>\n",
       "      <td>traffic</td>\n",
       "      <td>1995</td>\n",
       "      <td>5.260000</td>\n",
       "    </tr>\n",
       "    <tr>\n",
       "      <th>60570</th>\n",
       "      <td>nld</td>\n",
       "      <td>2</td>\n",
       "      <td>traffic</td>\n",
       "      <td>1996</td>\n",
       "      <td>5.140000</td>\n",
       "    </tr>\n",
       "    <tr>\n",
       "      <th>60571</th>\n",
       "      <td>nld</td>\n",
       "      <td>2</td>\n",
       "      <td>traffic</td>\n",
       "      <td>1997</td>\n",
       "      <td>4.980000</td>\n",
       "    </tr>\n",
       "    <tr>\n",
       "      <th>60572</th>\n",
       "      <td>nld</td>\n",
       "      <td>2</td>\n",
       "      <td>traffic</td>\n",
       "      <td>1998</td>\n",
       "      <td>4.790000</td>\n",
       "    </tr>\n",
       "    <tr>\n",
       "      <th>60573</th>\n",
       "      <td>nld</td>\n",
       "      <td>2</td>\n",
       "      <td>traffic</td>\n",
       "      <td>1999</td>\n",
       "      <td>4.680000</td>\n",
       "    </tr>\n",
       "    <tr>\n",
       "      <th>60574</th>\n",
       "      <td>nld</td>\n",
       "      <td>2</td>\n",
       "      <td>traffic</td>\n",
       "      <td>2000</td>\n",
       "      <td>4.550000</td>\n",
       "    </tr>\n",
       "    <tr>\n",
       "      <th>60575</th>\n",
       "      <td>nld</td>\n",
       "      <td>2</td>\n",
       "      <td>traffic</td>\n",
       "      <td>2001</td>\n",
       "      <td>4.370000</td>\n",
       "    </tr>\n",
       "    <tr>\n",
       "      <th>60576</th>\n",
       "      <td>nld</td>\n",
       "      <td>2</td>\n",
       "      <td>traffic</td>\n",
       "      <td>2002</td>\n",
       "      <td>4.210000</td>\n",
       "    </tr>\n",
       "    <tr>\n",
       "      <th>60577</th>\n",
       "      <td>nld</td>\n",
       "      <td>2</td>\n",
       "      <td>traffic</td>\n",
       "      <td>2003</td>\n",
       "      <td>4.020000</td>\n",
       "    </tr>\n",
       "    <tr>\n",
       "      <th>60578</th>\n",
       "      <td>nld</td>\n",
       "      <td>2</td>\n",
       "      <td>traffic</td>\n",
       "      <td>2004</td>\n",
       "      <td>3.710000</td>\n",
       "    </tr>\n",
       "    <tr>\n",
       "      <th>60579</th>\n",
       "      <td>nld</td>\n",
       "      <td>2</td>\n",
       "      <td>traffic</td>\n",
       "      <td>2005</td>\n",
       "      <td>3.440000</td>\n",
       "    </tr>\n",
       "    <tr>\n",
       "      <th>60580</th>\n",
       "      <td>nld</td>\n",
       "      <td>2</td>\n",
       "      <td>traffic</td>\n",
       "      <td>2006</td>\n",
       "      <td>3.270000</td>\n",
       "    </tr>\n",
       "    <tr>\n",
       "      <th>60581</th>\n",
       "      <td>nld</td>\n",
       "      <td>2</td>\n",
       "      <td>traffic</td>\n",
       "      <td>2007</td>\n",
       "      <td>3.120000</td>\n",
       "    </tr>\n",
       "    <tr>\n",
       "      <th>60582</th>\n",
       "      <td>nld</td>\n",
       "      <td>2</td>\n",
       "      <td>traffic</td>\n",
       "      <td>2008</td>\n",
       "      <td>2.950000</td>\n",
       "    </tr>\n",
       "    <tr>\n",
       "      <th>60583</th>\n",
       "      <td>nld</td>\n",
       "      <td>2</td>\n",
       "      <td>traffic</td>\n",
       "      <td>2009</td>\n",
       "      <td>2.810000</td>\n",
       "    </tr>\n",
       "    <tr>\n",
       "      <th>60584</th>\n",
       "      <td>nld</td>\n",
       "      <td>2</td>\n",
       "      <td>traffic</td>\n",
       "      <td>2010</td>\n",
       "      <td>2.650000</td>\n",
       "    </tr>\n",
       "    <tr>\n",
       "      <th>60585</th>\n",
       "      <td>nld</td>\n",
       "      <td>2</td>\n",
       "      <td>traffic</td>\n",
       "      <td>2011</td>\n",
       "      <td>2.570000</td>\n",
       "    </tr>\n",
       "    <tr>\n",
       "      <th>60586</th>\n",
       "      <td>nld</td>\n",
       "      <td>2</td>\n",
       "      <td>traffic</td>\n",
       "      <td>2012</td>\n",
       "      <td>2.460000</td>\n",
       "    </tr>\n",
       "    <tr>\n",
       "      <th>60587</th>\n",
       "      <td>nld</td>\n",
       "      <td>2</td>\n",
       "      <td>traffic</td>\n",
       "      <td>2013</td>\n",
       "      <td>2.310000</td>\n",
       "    </tr>\n",
       "    <tr>\n",
       "      <th>60588</th>\n",
       "      <td>nld</td>\n",
       "      <td>2</td>\n",
       "      <td>traffic</td>\n",
       "      <td>2014</td>\n",
       "      <td>2.250000</td>\n",
       "    </tr>\n",
       "    <tr>\n",
       "      <th>60589</th>\n",
       "      <td>nld</td>\n",
       "      <td>2</td>\n",
       "      <td>traffic</td>\n",
       "      <td>2015</td>\n",
       "      <td>2.210000</td>\n",
       "    </tr>\n",
       "    <tr>\n",
       "      <th>60590</th>\n",
       "      <td>nld</td>\n",
       "      <td>2</td>\n",
       "      <td>traffic</td>\n",
       "      <td>2016</td>\n",
       "      <td>2.240000</td>\n",
       "    </tr>\n",
       "  </tbody>\n",
       "</table>\n",
       "<p>60591 rows × 5 columns</p>\n",
       "</div>"
      ],
      "text/plain": [
       "       geo  sex     cause  year      value\n",
       "0      sen    0  homicide  1990   1.610000\n",
       "1      sen    0  homicide  1991   1.550000\n",
       "2      sen    0  homicide  1992   1.510000\n",
       "3      sen    0  homicide  1993   1.450000\n",
       "4      sen    0  homicide  1994   1.460000\n",
       "5      sen    0  homicide  1995   1.400000\n",
       "6      sen    0  homicide  1996   1.370000\n",
       "7      sen    0  homicide  1997   1.370000\n",
       "8      sen    0  homicide  1998   1.360000\n",
       "9      sen    0  homicide  1999   1.380000\n",
       "10     sen    0  homicide  2000   1.380000\n",
       "11     sen    0  homicide  2001   1.390000\n",
       "12     sen    0  homicide  2002   1.390000\n",
       "13     sen    0  homicide  2003   1.370000\n",
       "14     sen    0  homicide  2004   1.430000\n",
       "15     sen    0  homicide  2005   1.440000\n",
       "16     sen    0  homicide  2006   1.450000\n",
       "17     sen    0  homicide  2007   1.450000\n",
       "18     sen    0  homicide  2008   1.440000\n",
       "19     sen    0  homicide  2009   1.430000\n",
       "20     sen    0  homicide  2010   1.430000\n",
       "21     sen    0  homicide  2011   1.440000\n",
       "22     sen    0  homicide  2012   1.440000\n",
       "23     sen    0  homicide  2013   1.450000\n",
       "24     sen    0  homicide  2014   1.460000\n",
       "25     sen    0  homicide  2015   1.460000\n",
       "26     sen    0  homicide  2016   1.460000\n",
       "27     sen    0   suicide  1990  11.520000\n",
       "28     sen    0   suicide  1991  11.540000\n",
       "29     sen    0   suicide  1992  11.690000\n",
       "...    ...  ...       ...   ...        ...\n",
       "60561  nld    2   traffic  1987   6.108756\n",
       "60562  nld    2   traffic  1988   5.897470\n",
       "60563  nld    2   traffic  1989   6.540002\n",
       "60564  nld    2   traffic  1990   6.100000\n",
       "60565  nld    2   traffic  1991   5.890000\n",
       "60566  nld    2   traffic  1992   5.760000\n",
       "60567  nld    2   traffic  1993   5.550000\n",
       "60568  nld    2   traffic  1994   5.390000\n",
       "60569  nld    2   traffic  1995   5.260000\n",
       "60570  nld    2   traffic  1996   5.140000\n",
       "60571  nld    2   traffic  1997   4.980000\n",
       "60572  nld    2   traffic  1998   4.790000\n",
       "60573  nld    2   traffic  1999   4.680000\n",
       "60574  nld    2   traffic  2000   4.550000\n",
       "60575  nld    2   traffic  2001   4.370000\n",
       "60576  nld    2   traffic  2002   4.210000\n",
       "60577  nld    2   traffic  2003   4.020000\n",
       "60578  nld    2   traffic  2004   3.710000\n",
       "60579  nld    2   traffic  2005   3.440000\n",
       "60580  nld    2   traffic  2006   3.270000\n",
       "60581  nld    2   traffic  2007   3.120000\n",
       "60582  nld    2   traffic  2008   2.950000\n",
       "60583  nld    2   traffic  2009   2.810000\n",
       "60584  nld    2   traffic  2010   2.650000\n",
       "60585  nld    2   traffic  2011   2.570000\n",
       "60586  nld    2   traffic  2012   2.460000\n",
       "60587  nld    2   traffic  2013   2.310000\n",
       "60588  nld    2   traffic  2014   2.250000\n",
       "60589  nld    2   traffic  2015   2.210000\n",
       "60590  nld    2   traffic  2016   2.240000\n",
       "\n",
       "[60591 rows x 5 columns]"
      ]
     },
     "execution_count": 44,
     "metadata": {},
     "output_type": "execute_result"
    }
   ],
   "source": [
    "res"
   ]
  },
  {
   "cell_type": "code",
   "execution_count": 45,
   "metadata": {
    "scrolled": true
   },
   "outputs": [
    {
     "data": {
      "text/html": [
       "<div>\n",
       "<style scoped>\n",
       "    .dataframe tbody tr th:only-of-type {\n",
       "        vertical-align: middle;\n",
       "    }\n",
       "\n",
       "    .dataframe tbody tr th {\n",
       "        vertical-align: top;\n",
       "    }\n",
       "\n",
       "    .dataframe thead th {\n",
       "        text-align: right;\n",
       "    }\n",
       "</style>\n",
       "<table border=\"1\" class=\"dataframe\">\n",
       "  <thead>\n",
       "    <tr style=\"text-align: right;\">\n",
       "      <th></th>\n",
       "      <th>geo</th>\n",
       "      <th>sex</th>\n",
       "      <th>cause</th>\n",
       "      <th>year</th>\n",
       "      <th>value</th>\n",
       "    </tr>\n",
       "  </thead>\n",
       "  <tbody>\n",
       "    <tr>\n",
       "      <th>53652</th>\n",
       "      <td>pan</td>\n",
       "      <td>2</td>\n",
       "      <td>homicide</td>\n",
       "      <td>1984</td>\n",
       "      <td>1.647762</td>\n",
       "    </tr>\n",
       "    <tr>\n",
       "      <th>53653</th>\n",
       "      <td>pan</td>\n",
       "      <td>2</td>\n",
       "      <td>homicide</td>\n",
       "      <td>1985</td>\n",
       "      <td>1.519043</td>\n",
       "    </tr>\n",
       "    <tr>\n",
       "      <th>53654</th>\n",
       "      <td>pan</td>\n",
       "      <td>2</td>\n",
       "      <td>homicide</td>\n",
       "      <td>1986</td>\n",
       "      <td>2.114544</td>\n",
       "    </tr>\n",
       "    <tr>\n",
       "      <th>53655</th>\n",
       "      <td>pan</td>\n",
       "      <td>2</td>\n",
       "      <td>homicide</td>\n",
       "      <td>1987</td>\n",
       "      <td>2.454494</td>\n",
       "    </tr>\n",
       "    <tr>\n",
       "      <th>53656</th>\n",
       "      <td>pan</td>\n",
       "      <td>2</td>\n",
       "      <td>homicide</td>\n",
       "      <td>1988</td>\n",
       "      <td>2.259335</td>\n",
       "    </tr>\n",
       "    <tr>\n",
       "      <th>53657</th>\n",
       "      <td>pan</td>\n",
       "      <td>2</td>\n",
       "      <td>homicide</td>\n",
       "      <td>1989</td>\n",
       "      <td>2.503161</td>\n",
       "    </tr>\n",
       "    <tr>\n",
       "      <th>53658</th>\n",
       "      <td>pan</td>\n",
       "      <td>2</td>\n",
       "      <td>homicide</td>\n",
       "      <td>1990</td>\n",
       "      <td>2.670000</td>\n",
       "    </tr>\n",
       "    <tr>\n",
       "      <th>53659</th>\n",
       "      <td>pan</td>\n",
       "      <td>2</td>\n",
       "      <td>homicide</td>\n",
       "      <td>1991</td>\n",
       "      <td>2.770000</td>\n",
       "    </tr>\n",
       "    <tr>\n",
       "      <th>53660</th>\n",
       "      <td>pan</td>\n",
       "      <td>2</td>\n",
       "      <td>homicide</td>\n",
       "      <td>1992</td>\n",
       "      <td>2.850000</td>\n",
       "    </tr>\n",
       "    <tr>\n",
       "      <th>53661</th>\n",
       "      <td>pan</td>\n",
       "      <td>2</td>\n",
       "      <td>homicide</td>\n",
       "      <td>1993</td>\n",
       "      <td>2.900000</td>\n",
       "    </tr>\n",
       "    <tr>\n",
       "      <th>53662</th>\n",
       "      <td>pan</td>\n",
       "      <td>2</td>\n",
       "      <td>homicide</td>\n",
       "      <td>1994</td>\n",
       "      <td>2.940000</td>\n",
       "    </tr>\n",
       "    <tr>\n",
       "      <th>53663</th>\n",
       "      <td>pan</td>\n",
       "      <td>2</td>\n",
       "      <td>homicide</td>\n",
       "      <td>1995</td>\n",
       "      <td>3.010000</td>\n",
       "    </tr>\n",
       "    <tr>\n",
       "      <th>53664</th>\n",
       "      <td>pan</td>\n",
       "      <td>2</td>\n",
       "      <td>homicide</td>\n",
       "      <td>1996</td>\n",
       "      <td>2.920000</td>\n",
       "    </tr>\n",
       "    <tr>\n",
       "      <th>53665</th>\n",
       "      <td>pan</td>\n",
       "      <td>2</td>\n",
       "      <td>homicide</td>\n",
       "      <td>1997</td>\n",
       "      <td>3.040000</td>\n",
       "    </tr>\n",
       "    <tr>\n",
       "      <th>53666</th>\n",
       "      <td>pan</td>\n",
       "      <td>2</td>\n",
       "      <td>homicide</td>\n",
       "      <td>1998</td>\n",
       "      <td>3.010000</td>\n",
       "    </tr>\n",
       "    <tr>\n",
       "      <th>53667</th>\n",
       "      <td>pan</td>\n",
       "      <td>2</td>\n",
       "      <td>homicide</td>\n",
       "      <td>1999</td>\n",
       "      <td>2.890000</td>\n",
       "    </tr>\n",
       "    <tr>\n",
       "      <th>53668</th>\n",
       "      <td>pan</td>\n",
       "      <td>2</td>\n",
       "      <td>homicide</td>\n",
       "      <td>2000</td>\n",
       "      <td>2.940000</td>\n",
       "    </tr>\n",
       "    <tr>\n",
       "      <th>53669</th>\n",
       "      <td>pan</td>\n",
       "      <td>2</td>\n",
       "      <td>homicide</td>\n",
       "      <td>2001</td>\n",
       "      <td>3.000000</td>\n",
       "    </tr>\n",
       "    <tr>\n",
       "      <th>53670</th>\n",
       "      <td>pan</td>\n",
       "      <td>2</td>\n",
       "      <td>homicide</td>\n",
       "      <td>2002</td>\n",
       "      <td>3.090000</td>\n",
       "    </tr>\n",
       "    <tr>\n",
       "      <th>53671</th>\n",
       "      <td>pan</td>\n",
       "      <td>2</td>\n",
       "      <td>homicide</td>\n",
       "      <td>2003</td>\n",
       "      <td>3.180000</td>\n",
       "    </tr>\n",
       "    <tr>\n",
       "      <th>53672</th>\n",
       "      <td>pan</td>\n",
       "      <td>2</td>\n",
       "      <td>homicide</td>\n",
       "      <td>2004</td>\n",
       "      <td>3.200000</td>\n",
       "    </tr>\n",
       "    <tr>\n",
       "      <th>53673</th>\n",
       "      <td>pan</td>\n",
       "      <td>2</td>\n",
       "      <td>homicide</td>\n",
       "      <td>2005</td>\n",
       "      <td>3.320000</td>\n",
       "    </tr>\n",
       "    <tr>\n",
       "      <th>53674</th>\n",
       "      <td>pan</td>\n",
       "      <td>2</td>\n",
       "      <td>homicide</td>\n",
       "      <td>2006</td>\n",
       "      <td>3.410000</td>\n",
       "    </tr>\n",
       "    <tr>\n",
       "      <th>53675</th>\n",
       "      <td>pan</td>\n",
       "      <td>2</td>\n",
       "      <td>homicide</td>\n",
       "      <td>2007</td>\n",
       "      <td>3.550000</td>\n",
       "    </tr>\n",
       "    <tr>\n",
       "      <th>53676</th>\n",
       "      <td>pan</td>\n",
       "      <td>2</td>\n",
       "      <td>homicide</td>\n",
       "      <td>2008</td>\n",
       "      <td>3.710000</td>\n",
       "    </tr>\n",
       "    <tr>\n",
       "      <th>53677</th>\n",
       "      <td>pan</td>\n",
       "      <td>2</td>\n",
       "      <td>homicide</td>\n",
       "      <td>2009</td>\n",
       "      <td>3.830000</td>\n",
       "    </tr>\n",
       "    <tr>\n",
       "      <th>53678</th>\n",
       "      <td>pan</td>\n",
       "      <td>2</td>\n",
       "      <td>homicide</td>\n",
       "      <td>2010</td>\n",
       "      <td>3.760000</td>\n",
       "    </tr>\n",
       "    <tr>\n",
       "      <th>53679</th>\n",
       "      <td>pan</td>\n",
       "      <td>2</td>\n",
       "      <td>homicide</td>\n",
       "      <td>2011</td>\n",
       "      <td>3.630000</td>\n",
       "    </tr>\n",
       "    <tr>\n",
       "      <th>53680</th>\n",
       "      <td>pan</td>\n",
       "      <td>2</td>\n",
       "      <td>homicide</td>\n",
       "      <td>2012</td>\n",
       "      <td>3.540000</td>\n",
       "    </tr>\n",
       "    <tr>\n",
       "      <th>53681</th>\n",
       "      <td>pan</td>\n",
       "      <td>2</td>\n",
       "      <td>homicide</td>\n",
       "      <td>2013</td>\n",
       "      <td>3.420000</td>\n",
       "    </tr>\n",
       "    <tr>\n",
       "      <th>53682</th>\n",
       "      <td>pan</td>\n",
       "      <td>2</td>\n",
       "      <td>homicide</td>\n",
       "      <td>2014</td>\n",
       "      <td>3.380000</td>\n",
       "    </tr>\n",
       "    <tr>\n",
       "      <th>53683</th>\n",
       "      <td>pan</td>\n",
       "      <td>2</td>\n",
       "      <td>homicide</td>\n",
       "      <td>2015</td>\n",
       "      <td>3.310000</td>\n",
       "    </tr>\n",
       "    <tr>\n",
       "      <th>53684</th>\n",
       "      <td>pan</td>\n",
       "      <td>2</td>\n",
       "      <td>homicide</td>\n",
       "      <td>2016</td>\n",
       "      <td>3.220000</td>\n",
       "    </tr>\n",
       "  </tbody>\n",
       "</table>\n",
       "</div>"
      ],
      "text/plain": [
       "       geo  sex     cause  year     value\n",
       "53652  pan    2  homicide  1984  1.647762\n",
       "53653  pan    2  homicide  1985  1.519043\n",
       "53654  pan    2  homicide  1986  2.114544\n",
       "53655  pan    2  homicide  1987  2.454494\n",
       "53656  pan    2  homicide  1988  2.259335\n",
       "53657  pan    2  homicide  1989  2.503161\n",
       "53658  pan    2  homicide  1990  2.670000\n",
       "53659  pan    2  homicide  1991  2.770000\n",
       "53660  pan    2  homicide  1992  2.850000\n",
       "53661  pan    2  homicide  1993  2.900000\n",
       "53662  pan    2  homicide  1994  2.940000\n",
       "53663  pan    2  homicide  1995  3.010000\n",
       "53664  pan    2  homicide  1996  2.920000\n",
       "53665  pan    2  homicide  1997  3.040000\n",
       "53666  pan    2  homicide  1998  3.010000\n",
       "53667  pan    2  homicide  1999  2.890000\n",
       "53668  pan    2  homicide  2000  2.940000\n",
       "53669  pan    2  homicide  2001  3.000000\n",
       "53670  pan    2  homicide  2002  3.090000\n",
       "53671  pan    2  homicide  2003  3.180000\n",
       "53672  pan    2  homicide  2004  3.200000\n",
       "53673  pan    2  homicide  2005  3.320000\n",
       "53674  pan    2  homicide  2006  3.410000\n",
       "53675  pan    2  homicide  2007  3.550000\n",
       "53676  pan    2  homicide  2008  3.710000\n",
       "53677  pan    2  homicide  2009  3.830000\n",
       "53678  pan    2  homicide  2010  3.760000\n",
       "53679  pan    2  homicide  2011  3.630000\n",
       "53680  pan    2  homicide  2012  3.540000\n",
       "53681  pan    2  homicide  2013  3.420000\n",
       "53682  pan    2  homicide  2014  3.380000\n",
       "53683  pan    2  homicide  2015  3.310000\n",
       "53684  pan    2  homicide  2016  3.220000"
      ]
     },
     "execution_count": 45,
     "metadata": {},
     "output_type": "execute_result"
    }
   ],
   "source": [
    "res.query(\"geo == 'pan' and sex == 2 and cause == 'homicide'\")"
   ]
  },
  {
   "cell_type": "code",
   "execution_count": null,
   "metadata": {},
   "outputs": [],
   "source": []
  },
  {
   "cell_type": "code",
   "execution_count": null,
   "metadata": {},
   "outputs": [],
   "source": []
  },
  {
   "cell_type": "code",
   "execution_count": null,
   "metadata": {},
   "outputs": [],
   "source": []
  },
  {
   "cell_type": "code",
   "execution_count": 25,
   "metadata": {},
   "outputs": [],
   "source": [
    "g = \"pan\" \n",
    "sex = 2 \n",
    "c = \"homicide\"\n",
    "\n",
    "who_g = who[(who.geo == g) & (who.sex == s) & (who.cause == c)].copy()\n",
    "gbd_g = gbd[(gbd.geo == g) & (gbd.sex == s) & (gbd.cause == c)].copy()"
   ]
  },
  {
   "cell_type": "code",
   "execution_count": 64,
   "metadata": {},
   "outputs": [
    {
     "data": {
      "text/plain": [
       "geo       object\n",
       "sex        int64\n",
       "cause     object\n",
       "year       int64\n",
       "value    float64\n",
       "dtype: object"
      ]
     },
     "execution_count": 64,
     "metadata": {},
     "output_type": "execute_result"
    }
   ],
   "source": [
    "who_g.dtypes"
   ]
  },
  {
   "cell_type": "code",
   "execution_count": 26,
   "metadata": {},
   "outputs": [],
   "source": [
    "left_ = who_g.set_index('year').sort_index()['value']\n",
    "right_ = gbd_g.set_index('year').sort_index()['value']"
   ]
  },
  {
   "cell_type": "code",
   "execution_count": 27,
   "metadata": {},
   "outputs": [
    {
     "data": {
      "text/plain": [
       "year\n",
       "1984    1.480923\n",
       "1985    1.185365\n",
       "1986    1.614027\n",
       "1987    1.787137\n",
       "1988    1.425139\n",
       "1989    1.502126\n",
       "1996    1.495986\n",
       "1997    1.981115\n",
       "1998    2.687893\n",
       "1999    1.081187\n",
       "2000    1.887910\n",
       "2001    1.863158\n",
       "2002    2.534529\n",
       "2003    2.429605\n",
       "2004    1.625193\n",
       "2006    2.323033\n",
       "Name: value, dtype: float64"
      ]
     },
     "execution_count": 27,
     "metadata": {},
     "output_type": "execute_result"
    }
   ],
   "source": [
    "left_"
   ]
  },
  {
   "cell_type": "code",
   "execution_count": 28,
   "metadata": {},
   "outputs": [
    {
     "data": {
      "text/plain": [
       "year\n",
       "1990    2.67\n",
       "1991    2.77\n",
       "1992    2.85\n",
       "1993    2.90\n",
       "1994    2.94\n",
       "1995    3.01\n",
       "1996    2.92\n",
       "1997    3.04\n",
       "1998    3.01\n",
       "1999    2.89\n",
       "2000    2.94\n",
       "2001    3.00\n",
       "2002    3.09\n",
       "2003    3.18\n",
       "2004    3.20\n",
       "2005    3.32\n",
       "2006    3.41\n",
       "2007    3.55\n",
       "2008    3.71\n",
       "2009    3.83\n",
       "2010    3.76\n",
       "2011    3.63\n",
       "2012    3.54\n",
       "2013    3.42\n",
       "2014    3.38\n",
       "2015    3.31\n",
       "2016    3.22\n",
       "Name: value, dtype: float64"
      ]
     },
     "execution_count": 28,
     "metadata": {},
     "output_type": "execute_result"
    }
   ],
   "source": [
    "right_"
   ]
  },
  {
   "cell_type": "code",
   "execution_count": 29,
   "metadata": {},
   "outputs": [],
   "source": [
    "bridge_length=10\n",
    "bridge_point=1990"
   ]
  },
  {
   "cell_type": "code",
   "execution_count": 30,
   "metadata": {},
   "outputs": [],
   "source": [
    "if bridge_point not in left_.index:\n",
    "    before = left_.loc[:bridge_point].index[-1]\n",
    "    if left_.index[-1] < bridge_point:\n",
    "        bridge_point = before\n",
    "    else:\n",
    "        after = left_.loc[bridge_point:].index[0]\n",
    "        if bridge_point - before >= after - bridge_point:\n",
    "            bridge_point = after\n",
    "        else:\n",
    "            bridge_point = before"
   ]
  },
  {
   "cell_type": "code",
   "execution_count": 31,
   "metadata": {},
   "outputs": [
    {
     "data": {
      "text/plain": [
       "1989"
      ]
     },
     "execution_count": 31,
     "metadata": {},
     "output_type": "execute_result"
    }
   ],
   "source": [
    "bridge_point"
   ]
  },
  {
   "cell_type": "code",
   "execution_count": 33,
   "metadata": {},
   "outputs": [],
   "source": [
    "if bridge_point < 1990:\n",
    "    merged = pd.concat([left_.loc[:bridge_point], right_.loc[:]])"
   ]
  },
  {
   "cell_type": "code",
   "execution_count": 34,
   "metadata": {},
   "outputs": [
    {
     "data": {
      "text/plain": [
       "year\n",
       "1984    1.480923\n",
       "1985    1.185365\n",
       "1986    1.614027\n",
       "1987    1.787137\n",
       "1988    1.425139\n",
       "1989    1.502126\n",
       "1990    2.670000\n",
       "1991    2.770000\n",
       "1992    2.850000\n",
       "1993    2.900000\n",
       "1994    2.940000\n",
       "1995    3.010000\n",
       "1996    2.920000\n",
       "1997    3.040000\n",
       "1998    3.010000\n",
       "1999    2.890000\n",
       "2000    2.940000\n",
       "2001    3.000000\n",
       "2002    3.090000\n",
       "2003    3.180000\n",
       "2004    3.200000\n",
       "2005    3.320000\n",
       "2006    3.410000\n",
       "2007    3.550000\n",
       "2008    3.710000\n",
       "2009    3.830000\n",
       "2010    3.760000\n",
       "2011    3.630000\n",
       "2012    3.540000\n",
       "2013    3.420000\n",
       "2014    3.380000\n",
       "2015    3.310000\n",
       "2016    3.220000\n",
       "Name: value, dtype: float64"
      ]
     },
     "execution_count": 34,
     "metadata": {},
     "output_type": "execute_result"
    }
   ],
   "source": [
    "merged"
   ]
  }
 ],
 "metadata": {
  "kernelspec": {
   "display_name": "Python 3",
   "language": "python",
   "name": "python3"
  },
  "language_info": {
   "codemirror_mode": {
    "name": "ipython",
    "version": 3
   },
   "file_extension": ".py",
   "mimetype": "text/x-python",
   "name": "python",
   "nbconvert_exporter": "python",
   "pygments_lexer": "ipython3",
   "version": "3.6.5"
  }
 },
 "nbformat": 4,
 "nbformat_minor": 2
}
